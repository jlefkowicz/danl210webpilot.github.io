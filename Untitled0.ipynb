{
  "nbformat": 4,
  "nbformat_minor": 0,
  "metadata": {
    "colab": {
      "provenance": []
    },
    "kernelspec": {
      "name": "python3",
      "display_name": "Python 3"
    },
    "language_info": {
      "name": "python"
    }
  },
  "cells": [
    {
      "cell_type": "markdown",
      "source": [],
      "metadata": {
        "id": "f-sjciG7h9q6"
      }
    },
    {
      "cell_type": "markdown",
      "source": [
        "---\n",
        "title: \"Habits\"\n",
        "author: YOUR_NAME\n",
        "date: January 27, 2025\n",
        "---"
      ],
      "metadata": {
        "id": "lvOyd-OKiA6n"
      }
    },
    {
      "cell_type": "code",
      "execution_count": 2,
      "metadata": {
        "id": "u67RLV6Vh2Fn"
      },
      "outputs": [],
      "source": [
        "a = \"A\""
      ]
    },
    {
      "cell_type": "markdown",
      "source": [],
      "metadata": {
        "id": "hLlacHe9iGpj"
      }
    }
  ]
}